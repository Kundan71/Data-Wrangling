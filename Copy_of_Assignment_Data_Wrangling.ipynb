{
  "nbformat": 4,
  "nbformat_minor": 0,
  "metadata": {
    "kernelspec": {
      "display_name": "Python 3",
      "language": "python",
      "name": "python3"
    },
    "language_info": {
      "codemirror_mode": {
        "name": "ipython",
        "version": 3
      },
      "file_extension": ".py",
      "mimetype": "text/x-python",
      "name": "python",
      "nbconvert_exporter": "python",
      "pygments_lexer": "ipython3",
      "version": "3.7.1"
    },
    "colab": {
      "provenance": [],
      "include_colab_link": true
    }
  },
  "cells": [
    {
      "cell_type": "markdown",
      "metadata": {
        "id": "view-in-github",
        "colab_type": "text"
      },
      "source": [
        "<a href=\"https://colab.research.google.com/github/Kundan71/Data-Wrangling/blob/main/Copy_of_Assignment_Data_Wrangling.ipynb\" target=\"_parent\"><img src=\"https://colab.research.google.com/assets/colab-badge.svg\" alt=\"Open In Colab\"/></a>"
      ]
    },
    {
      "cell_type": "markdown",
      "metadata": {
        "id": "WEPecVgEVrP_"
      },
      "source": [
        "## <u> Use only those concepts which have been taught till now </u>"
      ]
    },
    {
      "cell_type": "markdown",
      "metadata": {
        "id": "UCW8FaGk-pd0"
      },
      "source": [
        "# <b><u> Problem 1: </u> Which actor has acted in the most number of movies? Deep dive into the movies, genres and profits corresponding to this actor. </b>"
      ]
    },
    {
      "cell_type": "code",
      "metadata": {
        "id": "jI39LRd3-pd2"
      },
      "source": [
        "# Your code here\n",
        "import pandas as pd\n",
        "import numpy as np\n"
      ],
      "execution_count": null,
      "outputs": []
    },
    {
      "cell_type": "code",
      "metadata": {
        "id": "w1vQJCS5ZUOH",
        "colab": {
          "base_uri": "https://localhost:8080/"
        },
        "outputId": "a7eee2f6-cdba-4ed1-b189-dddf452a83b9"
      },
      "source": [
        "from google.colab import drive\n",
        "drive.mount('/content/drive')"
      ],
      "execution_count": null,
      "outputs": [
        {
          "output_type": "stream",
          "text": [
            "Mounted at /content/drive\n"
          ],
          "name": "stdout"
        }
      ]
    },
    {
      "cell_type": "code",
      "metadata": {
        "id": "Il2I3fAEZkOZ"
      },
      "source": [
        "file_path = '/content/drive/MyDrive/Colab Notebooks/Module 1/week 3/data/imdb_data.csv'\n",
        "imdb_df=pd.read_csv(file_path)"
      ],
      "execution_count": null,
      "outputs": []
    },
    {
      "cell_type": "code",
      "metadata": {
        "id": "ClZ-Wdx9Zt6Q",
        "colab": {
          "base_uri": "https://localhost:8080/"
        },
        "outputId": "bfee3c80-c201-4870-bf0a-9c8c84f8375e"
      },
      "source": [
        "imdb_df.shape"
      ],
      "execution_count": null,
      "outputs": [
        {
          "output_type": "execute_result",
          "data": {
            "text/plain": [
              "(3000, 23)"
            ]
          },
          "metadata": {
            "tags": []
          },
          "execution_count": 4
        }
      ]
    },
    {
      "cell_type": "code",
      "metadata": {
        "id": "LHjuZeQHZyUH"
      },
      "source": [
        "imdb_df.head(10)"
      ],
      "execution_count": null,
      "outputs": []
    },
    {
      "cell_type": "code",
      "metadata": {
        "id": "qeT5dixmbsdB"
      },
      "source": [
        "imdb_df.info()\n"
      ],
      "execution_count": null,
      "outputs": []
    },
    {
      "cell_type": "code",
      "metadata": {
        "id": "j852nbBCaAuG",
        "colab": {
          "base_uri": "https://localhost:8080/",
          "height": 163
        },
        "outputId": "270c2f90-183d-4ae5-9e8a-ca01cb05e667"
      },
      "source": [
        "type(df.loc[0,'crew']) # not real list we will use eval() fn to convert it into real list"
      ],
      "execution_count": null,
      "outputs": [
        {
          "output_type": "error",
          "ename": "NameError",
          "evalue": "ignored",
          "traceback": [
            "\u001b[0;31m---------------------------------------------------------------------------\u001b[0m",
            "\u001b[0;31mNameError\u001b[0m                                 Traceback (most recent call last)",
            "\u001b[0;32m<ipython-input-7-5442963ecc0f>\u001b[0m in \u001b[0;36m<module>\u001b[0;34m()\u001b[0m\n\u001b[0;32m----> 1\u001b[0;31m \u001b[0mtype\u001b[0m\u001b[0;34m(\u001b[0m\u001b[0mdf\u001b[0m\u001b[0;34m.\u001b[0m\u001b[0mloc\u001b[0m\u001b[0;34m[\u001b[0m\u001b[0;36m0\u001b[0m\u001b[0;34m,\u001b[0m\u001b[0;34m'crew'\u001b[0m\u001b[0;34m]\u001b[0m\u001b[0;34m)\u001b[0m \u001b[0;31m# not real list we will use eval() fn to convert it into real list\u001b[0m\u001b[0;34m\u001b[0m\u001b[0;34m\u001b[0m\u001b[0m\n\u001b[0m",
            "\u001b[0;31mNameError\u001b[0m: name 'df' is not defined"
          ]
        }
      ]
    },
    {
      "cell_type": "code",
      "metadata": {
        "id": "aNaSrDfBTmsY",
        "colab": {
          "base_uri": "https://localhost:8080/"
        },
        "outputId": "22ba93d4-9289-4f8e-a2af-f9139ad78e73"
      },
      "source": [
        "len(eval(df.loc[0,'crew']))"
      ],
      "execution_count": null,
      "outputs": [
        {
          "output_type": "execute_result",
          "data": {
            "text/plain": [
              "72"
            ]
          },
          "metadata": {
            "tags": []
          },
          "execution_count": 64
        }
      ]
    },
    {
      "cell_type": "code",
      "metadata": {
        "id": "Y9aShhQvUfJx",
        "colab": {
          "base_uri": "https://localhost:8080/"
        },
        "outputId": "f6e56d63-b6ff-449e-edc8-d6308aeb7b81"
      },
      "source": [
        "imdb_df.columns"
      ],
      "execution_count": null,
      "outputs": [
        {
          "output_type": "execute_result",
          "data": {
            "text/plain": [
              "Index(['id', 'belongs_to_collection', 'budget', 'genres', 'homepage',\n",
              "       'imdb_id', 'original_language', 'original_title', 'overview',\n",
              "       'popularity', 'poster_path', 'production_companies',\n",
              "       'production_countries', 'release_date', 'runtime', 'spoken_languages',\n",
              "       'status', 'tagline', 'title', 'Keywords', 'cast', 'crew', 'revenue'],\n",
              "      dtype='object')"
            ]
          },
          "metadata": {
            "tags": []
          },
          "execution_count": 8
        }
      ]
    },
    {
      "cell_type": "code",
      "metadata": {
        "id": "sI4R42hhUV7v"
      },
      "source": [
        "column_to_keep = ['imdb_id', 'budget', 'genres', 'original_language', 'title', 'cast', 'crew', 'revenue']"
      ],
      "execution_count": null,
      "outputs": []
    },
    {
      "cell_type": "code",
      "metadata": {
        "id": "UHv-T6fnV5ei"
      },
      "source": [
        "imdb_df = imdb_df[column_to_keep]"
      ],
      "execution_count": null,
      "outputs": []
    },
    {
      "cell_type": "code",
      "metadata": {
        "id": "_SXFt9DUWB8Z"
      },
      "source": [
        "def convert_string_to_list(string):\n",
        "  return eval(string)"
      ],
      "execution_count": null,
      "outputs": []
    },
    {
      "cell_type": "code",
      "metadata": {
        "id": "Ki9sFvTofdYX"
      },
      "source": [
        "imdb_df.loc[~imdb_df['genres'].isna(),'genres'] = imdb_df.loc[~imdb_df['genres'].isna(),'genres'].apply(convert_string_to_list)"
      ],
      "execution_count": null,
      "outputs": []
    },
    {
      "cell_type": "code",
      "metadata": {
        "id": "3nh9lwCaggxX"
      },
      "source": [
        "imdb_df.loc[~imdb_df['crew'].isna(),'crew'] = imdb_df.loc[~imdb_df['crew'].isna(),'crew'].apply(convert_string_to_list)"
      ],
      "execution_count": null,
      "outputs": []
    },
    {
      "cell_type": "code",
      "metadata": {
        "id": "7R-q8eawf9Hs"
      },
      "source": [
        "#imdb_df.loc[0,'cast']"
      ],
      "execution_count": null,
      "outputs": []
    },
    {
      "cell_type": "code",
      "metadata": {
        "id": "mV3-On4-gHda"
      },
      "source": [
        "imdb_df.loc[~imdb_df['cast'].isna(),'cast'] = imdb_df.loc[~imdb_df['cast'].isna(),'cast'].apply(convert_string_to_list)"
      ],
      "execution_count": null,
      "outputs": []
    },
    {
      "cell_type": "code",
      "metadata": {
        "id": "eWv_W3_ligop"
      },
      "source": [
        "imdb_df_new = imdb_df.copy()"
      ],
      "execution_count": null,
      "outputs": []
    },
    {
      "cell_type": "code",
      "metadata": {
        "id": "LPhO4EESipDJ",
        "colab": {
          "base_uri": "https://localhost:8080/",
          "height": 297
        },
        "outputId": "dfbbd89c-eb66-4369-bc23-05ba6d5ed302"
      },
      "source": [
        "imdb_df_new.describe()"
      ],
      "execution_count": null,
      "outputs": [
        {
          "output_type": "execute_result",
          "data": {
            "text/html": [
              "<div>\n",
              "<style scoped>\n",
              "    .dataframe tbody tr th:only-of-type {\n",
              "        vertical-align: middle;\n",
              "    }\n",
              "\n",
              "    .dataframe tbody tr th {\n",
              "        vertical-align: top;\n",
              "    }\n",
              "\n",
              "    .dataframe thead th {\n",
              "        text-align: right;\n",
              "    }\n",
              "</style>\n",
              "<table border=\"1\" class=\"dataframe\">\n",
              "  <thead>\n",
              "    <tr style=\"text-align: right;\">\n",
              "      <th></th>\n",
              "      <th>budget</th>\n",
              "      <th>revenue</th>\n",
              "    </tr>\n",
              "  </thead>\n",
              "  <tbody>\n",
              "    <tr>\n",
              "      <th>count</th>\n",
              "      <td>3.000000e+03</td>\n",
              "      <td>3.000000e+03</td>\n",
              "    </tr>\n",
              "    <tr>\n",
              "      <th>mean</th>\n",
              "      <td>2.253133e+07</td>\n",
              "      <td>6.672585e+07</td>\n",
              "    </tr>\n",
              "    <tr>\n",
              "      <th>std</th>\n",
              "      <td>3.702609e+07</td>\n",
              "      <td>1.375323e+08</td>\n",
              "    </tr>\n",
              "    <tr>\n",
              "      <th>min</th>\n",
              "      <td>0.000000e+00</td>\n",
              "      <td>1.000000e+00</td>\n",
              "    </tr>\n",
              "    <tr>\n",
              "      <th>25%</th>\n",
              "      <td>0.000000e+00</td>\n",
              "      <td>2.379808e+06</td>\n",
              "    </tr>\n",
              "    <tr>\n",
              "      <th>50%</th>\n",
              "      <td>8.000000e+06</td>\n",
              "      <td>1.680707e+07</td>\n",
              "    </tr>\n",
              "    <tr>\n",
              "      <th>75%</th>\n",
              "      <td>2.900000e+07</td>\n",
              "      <td>6.891920e+07</td>\n",
              "    </tr>\n",
              "    <tr>\n",
              "      <th>max</th>\n",
              "      <td>3.800000e+08</td>\n",
              "      <td>1.519558e+09</td>\n",
              "    </tr>\n",
              "  </tbody>\n",
              "</table>\n",
              "</div>"
            ],
            "text/plain": [
              "             budget       revenue\n",
              "count  3.000000e+03  3.000000e+03\n",
              "mean   2.253133e+07  6.672585e+07\n",
              "std    3.702609e+07  1.375323e+08\n",
              "min    0.000000e+00  1.000000e+00\n",
              "25%    0.000000e+00  2.379808e+06\n",
              "50%    8.000000e+06  1.680707e+07\n",
              "75%    2.900000e+07  6.891920e+07\n",
              "max    3.800000e+08  1.519558e+09"
            ]
          },
          "metadata": {
            "tags": []
          },
          "execution_count": 16
        }
      ]
    },
    {
      "cell_type": "code",
      "metadata": {
        "id": "SqyG6oRbruLG"
      },
      "source": [
        "imdb_df_new.loc[imdb_df_new['budget']<=1000,'budget'] = imdb_df_new.loc[imdb_df_new['budget']>=1000,'budget'].median()"
      ],
      "execution_count": null,
      "outputs": []
    },
    {
      "cell_type": "code",
      "metadata": {
        "id": "HKJd4x-FtMgb"
      },
      "source": [
        "imdb_df_new.loc[imdb_df_new['revenue']<=1000,'revenue'] = imdb_df_new.loc[imdb_df_new['revenue']>=1000,'revenue'].median()"
      ],
      "execution_count": null,
      "outputs": []
    },
    {
      "cell_type": "code",
      "metadata": {
        "id": "cCoTmoznsYyl",
        "colab": {
          "base_uri": "https://localhost:8080/",
          "height": 297
        },
        "outputId": "b9ae6675-2286-4b1e-90e2-78700d2c6bf8"
      },
      "source": [
        "imdb_df_new.describe()"
      ],
      "execution_count": null,
      "outputs": [
        {
          "output_type": "execute_result",
          "data": {
            "text/html": [
              "<div>\n",
              "<style scoped>\n",
              "    .dataframe tbody tr th:only-of-type {\n",
              "        vertical-align: middle;\n",
              "    }\n",
              "\n",
              "    .dataframe tbody tr th {\n",
              "        vertical-align: top;\n",
              "    }\n",
              "\n",
              "    .dataframe thead th {\n",
              "        text-align: right;\n",
              "    }\n",
              "</style>\n",
              "<table border=\"1\" class=\"dataframe\">\n",
              "  <thead>\n",
              "    <tr style=\"text-align: right;\">\n",
              "      <th></th>\n",
              "      <th>budget</th>\n",
              "      <th>revenue</th>\n",
              "    </tr>\n",
              "  </thead>\n",
              "  <tbody>\n",
              "    <tr>\n",
              "      <th>count</th>\n",
              "      <td>3.000000e+03</td>\n",
              "      <td>3.000000e+03</td>\n",
              "    </tr>\n",
              "    <tr>\n",
              "      <th>mean</th>\n",
              "      <td>2.708250e+07</td>\n",
              "      <td>6.705811e+07</td>\n",
              "    </tr>\n",
              "    <tr>\n",
              "      <th>std</th>\n",
              "      <td>3.492773e+07</td>\n",
              "      <td>1.373917e+08</td>\n",
              "    </tr>\n",
              "    <tr>\n",
              "      <th>min</th>\n",
              "      <td>2.500000e+03</td>\n",
              "      <td>1.404000e+03</td>\n",
              "    </tr>\n",
              "    <tr>\n",
              "      <th>25%</th>\n",
              "      <td>1.000000e+07</td>\n",
              "      <td>2.947600e+06</td>\n",
              "    </tr>\n",
              "    <tr>\n",
              "      <th>50%</th>\n",
              "      <td>1.645000e+07</td>\n",
              "      <td>1.748753e+07</td>\n",
              "    </tr>\n",
              "    <tr>\n",
              "      <th>75%</th>\n",
              "      <td>2.900000e+07</td>\n",
              "      <td>6.891920e+07</td>\n",
              "    </tr>\n",
              "    <tr>\n",
              "      <th>max</th>\n",
              "      <td>3.800000e+08</td>\n",
              "      <td>1.519558e+09</td>\n",
              "    </tr>\n",
              "  </tbody>\n",
              "</table>\n",
              "</div>"
            ],
            "text/plain": [
              "             budget       revenue\n",
              "count  3.000000e+03  3.000000e+03\n",
              "mean   2.708250e+07  6.705811e+07\n",
              "std    3.492773e+07  1.373917e+08\n",
              "min    2.500000e+03  1.404000e+03\n",
              "25%    1.000000e+07  2.947600e+06\n",
              "50%    1.645000e+07  1.748753e+07\n",
              "75%    2.900000e+07  6.891920e+07\n",
              "max    3.800000e+08  1.519558e+09"
            ]
          },
          "metadata": {
            "tags": []
          },
          "execution_count": 19
        }
      ]
    },
    {
      "cell_type": "code",
      "metadata": {
        "id": "Bu-DuvustZGC"
      },
      "source": [
        "imdb_df_new['profit'] = imdb_df_new['revenue'] - imdb_df_new['budget']"
      ],
      "execution_count": null,
      "outputs": []
    },
    {
      "cell_type": "code",
      "metadata": {
        "id": "lMne0k4-tqRR"
      },
      "source": [
        "imdb_df_new.head()"
      ],
      "execution_count": null,
      "outputs": []
    },
    {
      "cell_type": "code",
      "metadata": {
        "id": "gdEz6KU8t0wZ"
      },
      "source": [
        "max_profit = imdb_df_new['profit'].max()"
      ],
      "execution_count": null,
      "outputs": []
    },
    {
      "cell_type": "code",
      "metadata": {
        "id": "wCi5GPDGuVUC"
      },
      "source": [
        "max_profit_movies = imdb_df_new[imdb_df_new['profit'] == max_profit]"
      ],
      "execution_count": null,
      "outputs": []
    },
    {
      "cell_type": "code",
      "metadata": {
        "id": "GHC_hhlL1MUC",
        "colab": {
          "base_uri": "https://localhost:8080/",
          "height": 97
        },
        "outputId": "46e2287f-4b5c-4fbf-f8d3-e1128b37cf06"
      },
      "source": [
        "max_profit_movies"
      ],
      "execution_count": null,
      "outputs": [
        {
          "output_type": "execute_result",
          "data": {
            "text/html": [
              "<div>\n",
              "<style scoped>\n",
              "    .dataframe tbody tr th:only-of-type {\n",
              "        vertical-align: middle;\n",
              "    }\n",
              "\n",
              "    .dataframe tbody tr th {\n",
              "        vertical-align: top;\n",
              "    }\n",
              "\n",
              "    .dataframe thead th {\n",
              "        text-align: right;\n",
              "    }\n",
              "</style>\n",
              "<table border=\"1\" class=\"dataframe\">\n",
              "  <thead>\n",
              "    <tr style=\"text-align: right;\">\n",
              "      <th></th>\n",
              "      <th>imdb_id</th>\n",
              "      <th>budget</th>\n",
              "      <th>genres</th>\n",
              "      <th>original_language</th>\n",
              "      <th>title</th>\n",
              "      <th>cast</th>\n",
              "      <th>crew</th>\n",
              "      <th>revenue</th>\n",
              "      <th>profit</th>\n",
              "    </tr>\n",
              "  </thead>\n",
              "  <tbody>\n",
              "    <tr>\n",
              "      <th>1761</th>\n",
              "      <td>tt2820852</td>\n",
              "      <td>190000000</td>\n",
              "      <td>[{'id': 28, 'name': 'Action'}]</td>\n",
              "      <td>en</td>\n",
              "      <td>Furious 7</td>\n",
              "      <td>[{'cast_id': 17, 'character': 'Dominic Toretto...</td>\n",
              "      <td>[{'credit_id': '52fe4cc8c3a36847f823e681', 'de...</td>\n",
              "      <td>1506249360</td>\n",
              "      <td>1316249360</td>\n",
              "    </tr>\n",
              "  </tbody>\n",
              "</table>\n",
              "</div>"
            ],
            "text/plain": [
              "        imdb_id     budget  ...     revenue      profit\n",
              "1761  tt2820852  190000000  ...  1506249360  1316249360\n",
              "\n",
              "[1 rows x 9 columns]"
            ]
          },
          "metadata": {
            "tags": []
          },
          "execution_count": 24
        }
      ]
    },
    {
      "cell_type": "code",
      "metadata": {
        "id": "LaMgnsKqx3tk"
      },
      "source": [
        "max_profit_movies.iloc[0]['crew']"
      ],
      "execution_count": null,
      "outputs": []
    },
    {
      "cell_type": "code",
      "metadata": {
        "id": "5cTh6NNMun5z"
      },
      "source": [
        "max_profit_movies_df = max_profit_movies['crew'].values\n",
        "crew_list = max_profit_movies.iloc[0]['crew']"
      ],
      "execution_count": null,
      "outputs": []
    },
    {
      "cell_type": "code",
      "metadata": {
        "id": "QLOJJvdZvOBf"
      },
      "source": [
        "producer_list = []\n",
        "director_list = []\n",
        "for elem in crew_list:\n",
        "  if elem['job'] == 'Producer':\n",
        "    producer_list.append(elem['name'])\n",
        "\n",
        "  if elem['job'] == 'Director':\n",
        "    director_list.append(elem['name'])\n"
      ],
      "execution_count": null,
      "outputs": []
    },
    {
      "cell_type": "code",
      "metadata": {
        "id": "3xt4dEnTw6J3",
        "colab": {
          "base_uri": "https://localhost:8080/"
        },
        "outputId": "100c8768-fb63-48a4-86d6-276505a3d613"
      },
      "source": [
        "director_list"
      ],
      "execution_count": null,
      "outputs": [
        {
          "output_type": "execute_result",
          "data": {
            "text/plain": [
              "['James Wan']"
            ]
          },
          "metadata": {
            "tags": []
          },
          "execution_count": 28
        }
      ]
    },
    {
      "cell_type": "code",
      "metadata": {
        "id": "sa54pfgvzcf3"
      },
      "source": [
        "max_profit_movies.iloc[0]['cast']"
      ],
      "execution_count": null,
      "outputs": []
    },
    {
      "cell_type": "code",
      "metadata": {
        "id": "X49pxVQJyjZA"
      },
      "source": [
        "actor_list_df = max_profit_movies.iloc[0]['cast']"
      ],
      "execution_count": null,
      "outputs": []
    },
    {
      "cell_type": "code",
      "metadata": {
        "id": "r6nZV0xeyyna"
      },
      "source": [
        "actor_list = []\n",
        "male_actor_list = []\n",
        "female_actor_list = []\n",
        "for elem in actor_list_df:\n",
        "  actor_list.append(elem['name'])\n",
        "\n",
        "  if elem['gender'] == 2:\n",
        "    male_actor_list.append(elem['name'])\n",
        "\n",
        "  if elem['gender'] == 1:\n",
        "    female_actor_list.append(elem['name'])"
      ],
      "execution_count": null,
      "outputs": []
    },
    {
      "cell_type": "code",
      "metadata": {
        "id": "j9po9fcOzKrM",
        "colab": {
          "base_uri": "https://localhost:8080/"
        },
        "outputId": "98b78607-0999-4420-9eb6-62e285edb472"
      },
      "source": [
        "female_actor_list"
      ],
      "execution_count": null,
      "outputs": [
        {
          "output_type": "execute_result",
          "data": {
            "text/plain": [
              "['Michelle Rodriguez',\n",
              " 'Jordana Brewster',\n",
              " 'Nathalie Emmanuel',\n",
              " 'Gal Gadot',\n",
              " 'Elsa Pataky',\n",
              " 'Eden Estrella',\n",
              " 'Iggy Azalea',\n",
              " 'Levy Tran',\n",
              " 'Brittney Alger',\n",
              " 'Jocelin Donahue',\n",
              " 'Nathalie Kelley']"
            ]
          },
          "metadata": {
            "tags": []
          },
          "execution_count": 117
        }
      ]
    },
    {
      "cell_type": "markdown",
      "metadata": {
        "id": "QlQXvEQN-pd9"
      },
      "source": [
        "# <b><u> Problem 2 :</u> Top 3 directors prefer which actors the most?"
      ]
    },
    {
      "cell_type": "code",
      "metadata": {
        "id": "NE9RPJOcSgSM"
      },
      "source": [
        "# Your code here\n",
        "\n",
        "\n"
      ],
      "execution_count": null,
      "outputs": []
    },
    {
      "cell_type": "markdown",
      "metadata": {
        "id": "tCvG_u1vXTXh"
      },
      "source": [
        "# <b><u>Problem 3 :</u> Make a table of all the producers and directors of each movie. Find the top 3 producers who have produced movies with the highest average RoI."
      ]
    },
    {
      "cell_type": "code",
      "metadata": {
        "id": "sMkh6DPCQRxr"
      },
      "source": [
        "# Hint below: Create a dataframe which looks like as shown\n",
        "# DataFrame1\n",
        "Movie    Producers     Directors\n",
        "\n",
        "Movie1    [p1, p2]     [d1, d2]\n",
        "Movie2    [p3, p4]     [d3, d4]\n",
        "\n",
        "# DataFrame2\n",
        "Movie    Producers       ROI\n",
        "Movie1     p1            12\n",
        "Movie1     p2            13\n",
        "Movie2     p3            14\n",
        "movie2     p4            15\n",
        "\n",
        "# DataFrame3\n",
        "Producer   Movies         Average_ROI\n",
        "p1.    [m1, m2, m3]    avg_roi(m1, m2, m3)\n",
        "p2     [m2, m4, m5]    avg_roi(m2, m4, m5)"
      ],
      "execution_count": null,
      "outputs": []
    },
    {
      "cell_type": "code",
      "metadata": {
        "id": "5nXIINbDia7R"
      },
      "source": [
        "# Your code here\n",
        "\n",
        "\n",
        "\n"
      ],
      "execution_count": null,
      "outputs": []
    }
  ]
}